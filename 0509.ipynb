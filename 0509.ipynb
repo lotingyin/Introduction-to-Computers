{
  "nbformat": 4,
  "nbformat_minor": 0,
  "metadata": {
    "colab": {
      "name": "0509.ipynb",
      "provenance": [],
      "authorship_tag": "ABX9TyOLReHStBVISNYtj9XvKQFt",
      "include_colab_link": true
    },
    "kernelspec": {
      "name": "python3",
      "display_name": "Python 3"
    },
    "language_info": {
      "name": "python"
    }
  },
  "cells": [
    {
      "cell_type": "markdown",
      "metadata": {
        "id": "view-in-github",
        "colab_type": "text"
      },
      "source": [
        "<a href=\"https://colab.research.google.com/github/lotingyin/Introduction-to-Computers/blob/main/0509.ipynb\" target=\"_parent\"><img src=\"https://colab.research.google.com/assets/colab-badge.svg\" alt=\"Open In Colab\"/></a>"
      ]
    },
    {
      "cell_type": "code",
      "execution_count": 1,
      "metadata": {
        "colab": {
          "base_uri": "https://localhost:8080/"
        },
        "id": "7bOf_-I-wBc2",
        "outputId": "7e596869-0950-459e-bb9d-d6d24bc2f653"
      },
      "outputs": [
        {
          "output_type": "stream",
          "name": "stdout",
          "text": [
            "請輸入你的體溫34.5\n",
            "體溫正常!\n"
          ]
        }
      ],
      "source": [
        "temp= float(input(\"請輸入你的體溫\"))\n",
        "if temp >= 37.5:\n",
        "  print(\"體溫過高!\")\n",
        "elif temp >= 37 and temp < 37.4:\n",
        "  print(\"體溫略高!\")\n",
        "elif temp >= 34 and temp <= 36.9:\n",
        "  print(\"體溫正常!\")\n",
        "else:\n",
        "  print(\"體溫異常，請重新量測!\")"
      ]
    },
    {
      "cell_type": "code",
      "source": [
        "score = input (\"請輸入成績\")\n",
        "if (int(score) >= 90):\n",
        "  print(\"A\")\n",
        "elif (int(score) >= 80):\n",
        "  print(\"B\")\n",
        "elif (int(score) >= 70):\n",
        "  print(\"C\")\n",
        "elif (int(score) >= 60):\n",
        "  print(\"D\")\n",
        "else:\n",
        "  print(\"E\")"
      ],
      "metadata": {
        "colab": {
          "base_uri": "https://localhost:8080/"
        },
        "id": "4BQbh72txB7B",
        "outputId": "3eafaa58-28d4-4ff1-cfd6-ee706d08a2f6"
      },
      "execution_count": 4,
      "outputs": [
        {
          "output_type": "stream",
          "name": "stdout",
          "text": [
            "請輸入成績85\n",
            "B\n"
          ]
        }
      ]
    },
    {
      "cell_type": "code",
      "source": [
        "money = int(input(\"請輸入購物金額:\"))\n",
        "if (money >=  10000):\n",
        "  if(money >= 100000):\n",
        "    print(\"八折\", money *0.8, end = \"元\\n\")\n",
        "  elif(money >= 50000):\n",
        "    print(\"八五折\", money *0.85, end = \"元\\n\")\n",
        "  elif(money >= 30000):\n",
        "    print(\"九折\", money *0.9, end = \"元\\n\")\n",
        "  else:\n",
        "    print(\"九五折\", money *0.95, end = \"元\\n\")\n",
        "else:\n",
        "  print(\"沒打折\",money, end=\"元\\n\")"
      ],
      "metadata": {
        "colab": {
          "base_uri": "https://localhost:8080/"
        },
        "id": "mfs1pXSOx75K",
        "outputId": "a60cac5f-07d1-43d9-b219-13974f01b888"
      },
      "execution_count": 5,
      "outputs": [
        {
          "output_type": "stream",
          "name": "stdout",
          "text": [
            "請輸入購物金額:50000\n",
            "八五折 42500.0元\n"
          ]
        }
      ]
    },
    {
      "cell_type": "code",
      "source": [
        "month = int(input(\"請輸入月份\"))\n",
        "if (month >= 1 and month <= 12):\n",
        "  if(month >= 3 and month < 6):\n",
        "    print(\"{}月是春天!\".format(month))\n",
        "  elif(month >= 6 and month < 9):\n",
        "    print(\"{}月是夏天!\".format(month))\n",
        "  elif(month >= 9 and month < 11):\n",
        "    print(\"{}月是秋天!\".format(month))\n",
        "  else:\n",
        "    print(\"{}月是冬天!\".format(month))\n",
        "else:\n",
        "  print(\"月份不再範圍內！\")"
      ],
      "metadata": {
        "colab": {
          "base_uri": "https://localhost:8080/"
        },
        "id": "w0HF2gVqytPD",
        "outputId": "93615eef-e991-42f9-b792-8936de0c5f6b"
      },
      "execution_count": 9,
      "outputs": [
        {
          "output_type": "stream",
          "name": "stdout",
          "text": [
            "請輸入月份12\n",
            "12月是冬天!\n"
          ]
        }
      ]
    },
    {
      "cell_type": "code",
      "source": [
        "money=int(input(\"請輸入收入:\"))\n",
        "if (money >=  100000):\n",
        "  if(money >= 2000000):\n",
        "    print(\"稅率為0.3\",money *0.3, end= \"元\\n\")\n",
        "  elif(money >= 1000000):\n",
        "    print(\"稅率為0.21\",money *0.21, end= \"元\\n\")\n",
        "  elif(money >= 600000):\n",
        "    print(\"稅率為0.13\",money *0.13, end= \"元\\n\")\n",
        "  else:\n",
        "    print(\"稅率為0.06\",money *0.06, end= \"元\\n\")\n",
        "else:\n",
        "  print(\"沒有稅率\",money,end= \"元\\n\")"
      ],
      "metadata": {
        "colab": {
          "base_uri": "https://localhost:8080/"
        },
        "id": "EbY73ZXdb2Zl",
        "outputId": "22b1ca46-2337-4889-d2fe-aef9ea7508a2"
      },
      "execution_count": 12,
      "outputs": [
        {
          "output_type": "stream",
          "name": "stdout",
          "text": [
            "請輸入收入:2000000\n",
            "稅率為0.3 600000.0元\n"
          ]
        }
      ]
    }
  ]
}
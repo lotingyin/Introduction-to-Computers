{
  "nbformat": 4,
  "nbformat_minor": 0,
  "metadata": {
    "colab": {
      "name": "0328.ipynb",
      "provenance": [],
      "authorship_tag": "ABX9TyMcADnFUlUmml4h0b9mw9oZ",
      "include_colab_link": true
    },
    "kernelspec": {
      "name": "python3",
      "display_name": "Python 3"
    },
    "language_info": {
      "name": "python"
    }
  },
  "cells": [
    {
      "cell_type": "markdown",
      "metadata": {
        "id": "view-in-github",
        "colab_type": "text"
      },
      "source": [
        "<a href=\"https://colab.research.google.com/github/lotingyin/Introduction-to-Computers/blob/main/0328.ipynb\" target=\"_parent\"><img src=\"https://colab.research.google.com/assets/colab-badge.svg\" alt=\"Open In Colab\"/></a>"
      ]
    },
    {
      "cell_type": "code",
      "execution_count": 1,
      "metadata": {
        "colab": {
          "base_uri": "https://localhost:8080/"
        },
        "id": "1brPY-KLL5_H",
        "outputId": "53b5a77f-2352-48a5-a2b0-ac05eefe78b6"
      },
      "outputs": [
        {
          "output_type": "stream",
          "name": "stdout",
          "text": [
            "請輸入梯形上底長度為:\n",
            "3\n",
            "請輸入梯形下底長度為:\n",
            "4\n",
            "請輸入梯形高度為:\n",
            "3\n",
            "梯形上底長度為: 3 梯形下底長度為: 4 梯形高度為: 3 梯形面積為: 10.5\n"
          ]
        }
      ],
      "source": [
        "print(\"請輸入梯形上底長度為:\")\n",
        "上底=int(input())\n",
        "\n",
        "print(\"請輸入梯形下底長度為:\")\n",
        "下底=int(input())\n",
        "\n",
        "print(\"請輸入梯形高度為:\")\n",
        "高=int(input())\n",
        "\n",
        "面積 = (上底 + 下底) * 高 / 2\n",
        "print('梯形上底長度為:',上底,'梯形下底長度為:',下底,'梯形高度為:',高,'梯形面積為:',面積,)"
      ]
    },
    {
      "cell_type": "code",
      "source": [
        "print('梯形上底長度為: %d, 梯形下底長度為: %d, 梯形高度為: %d, 高梯形面積為: %0.2f' %(上底, 下底, 高, 面積))"
      ],
      "metadata": {
        "colab": {
          "base_uri": "https://localhost:8080/"
        },
        "id": "LCPSwDUcNMxi",
        "outputId": "659ce735-5561-4474-9c7d-09b144d36278"
      },
      "execution_count": 4,
      "outputs": [
        {
          "output_type": "stream",
          "name": "stdout",
          "text": [
            "梯形上底長度為: 3, 梯形下底長度為: 4, 梯形高度為: 3, 高梯形面積為: 10.50\n"
          ]
        }
      ]
    },
    {
      "cell_type": "code",
      "source": [
        "a = 1.1\n",
        "b = 2.02\n",
        "c = 3.003"
      ],
      "metadata": {
        "id": "RbmC8Gkasm89"
      },
      "execution_count": 6,
      "outputs": []
    },
    {
      "cell_type": "code",
      "source": [
        "print('a=%0.1f, b=%0.2f, c=%0.3f' %(a,b,c))"
      ],
      "metadata": {
        "colab": {
          "base_uri": "https://localhost:8080/"
        },
        "id": "FVcH0UpLtGXi",
        "outputId": "b91507f8-4bad-47dd-ad8c-c43253ca119f"
      },
      "execution_count": 7,
      "outputs": [
        {
          "output_type": "stream",
          "name": "stdout",
          "text": [
            "a=1.1, b=2.02, c=3.003\n"
          ]
        }
      ]
    },
    {
      "cell_type": "code",
      "source": [
        "print(\"請輸入您的身高(cm):\")\n",
        "身高=int(input())\n",
        "\n",
        "print(\"請輸入您的體重(kg):\")\n",
        "體重=int(input())\n",
        "\n",
        "BMI=體重/(身高/100)**2\n",
        "\n",
        "print('身高=%f, 體重=%f, BMI=%0.2f' %(身高, 體重, BMI))"
      ],
      "metadata": {
        "colab": {
          "base_uri": "https://localhost:8080/"
        },
        "id": "M6R6XPIetXiV",
        "outputId": "aecb8112-dad1-44cc-b2ce-a686837fde67"
      },
      "execution_count": 8,
      "outputs": [
        {
          "output_type": "stream",
          "name": "stdout",
          "text": [
            "請輸入您的身高(cm):\n",
            "160\n",
            "請輸入您的體重(kg):\n",
            "45\n",
            "身高=160.000000, 體重=45.000000, BMI=17.58\n"
          ]
        }
      ]
    },
    {
      "cell_type": "code",
      "source": [
        "6+9==2+13"
      ],
      "metadata": {
        "colab": {
          "base_uri": "https://localhost:8080/"
        },
        "id": "BfIcfcZpuWcy",
        "outputId": "62262265-0914-43a2-fc77-a8dd3bb3636a"
      },
      "execution_count": 9,
      "outputs": [
        {
          "output_type": "execute_result",
          "data": {
            "text/plain": [
              "True"
            ]
          },
          "metadata": {},
          "execution_count": 9
        }
      ]
    },
    {
      "cell_type": "code",
      "source": [
        "8+9==2+13"
      ],
      "metadata": {
        "colab": {
          "base_uri": "https://localhost:8080/"
        },
        "id": "fL5RoU6Guec0",
        "outputId": "499034ca-e018-42e5-b3d9-0ac9260bf01d"
      },
      "execution_count": 10,
      "outputs": [
        {
          "output_type": "execute_result",
          "data": {
            "text/plain": [
              "False"
            ]
          },
          "metadata": {},
          "execution_count": 10
        }
      ]
    },
    {
      "cell_type": "code",
      "source": [
        "8+9>2+13"
      ],
      "metadata": {
        "colab": {
          "base_uri": "https://localhost:8080/"
        },
        "id": "9_4pahIauhhu",
        "outputId": "f8d701f0-34f8-4e2d-8173-6fd548ef3a67"
      },
      "execution_count": 11,
      "outputs": [
        {
          "output_type": "execute_result",
          "data": {
            "text/plain": [
              "True"
            ]
          },
          "metadata": {},
          "execution_count": 11
        }
      ]
    },
    {
      "cell_type": "code",
      "source": [
        "6+9>2+13"
      ],
      "metadata": {
        "colab": {
          "base_uri": "https://localhost:8080/"
        },
        "id": "83tSYh8huknr",
        "outputId": "9459cc5e-9f99-478c-9491-f390689a2d57"
      },
      "execution_count": 12,
      "outputs": [
        {
          "output_type": "execute_result",
          "data": {
            "text/plain": [
              "False"
            ]
          },
          "metadata": {},
          "execution_count": 12
        }
      ]
    },
    {
      "cell_type": "code",
      "source": [
        "5+9<2+13"
      ],
      "metadata": {
        "colab": {
          "base_uri": "https://localhost:8080/"
        },
        "id": "78vKTBgCunXZ",
        "outputId": "b2475049-51f0-45e6-b482-d844711ec78e"
      },
      "execution_count": 13,
      "outputs": [
        {
          "output_type": "execute_result",
          "data": {
            "text/plain": [
              "True"
            ]
          },
          "metadata": {},
          "execution_count": 13
        }
      ]
    },
    {
      "cell_type": "code",
      "source": [
        "8+9<2+13"
      ],
      "metadata": {
        "colab": {
          "base_uri": "https://localhost:8080/"
        },
        "id": "_1YT_mq1up0t",
        "outputId": "028989f3-0cdf-4507-911a-1e7c8666f7f0"
      },
      "execution_count": 14,
      "outputs": [
        {
          "output_type": "execute_result",
          "data": {
            "text/plain": [
              "False"
            ]
          },
          "metadata": {},
          "execution_count": 14
        }
      ]
    },
    {
      "cell_type": "code",
      "source": [
        "6+9>=2+13"
      ],
      "metadata": {
        "colab": {
          "base_uri": "https://localhost:8080/"
        },
        "id": "WU9SY7e_uw52",
        "outputId": "f2c2db5c-0325-406e-8a03-3c02e9aac8ef"
      },
      "execution_count": 15,
      "outputs": [
        {
          "output_type": "execute_result",
          "data": {
            "text/plain": [
              "True"
            ]
          },
          "metadata": {},
          "execution_count": 15
        }
      ]
    },
    {
      "cell_type": "code",
      "source": [
        "3+9>=2+13"
      ],
      "metadata": {
        "colab": {
          "base_uri": "https://localhost:8080/"
        },
        "id": "jDo2WqDiuz6F",
        "outputId": "73772e25-887a-4321-e854-3ee9df1ebd4e"
      },
      "execution_count": 16,
      "outputs": [
        {
          "output_type": "execute_result",
          "data": {
            "text/plain": [
              "False"
            ]
          },
          "metadata": {},
          "execution_count": 16
        }
      ]
    },
    {
      "cell_type": "code",
      "source": [
        "3+9<=2+13"
      ],
      "metadata": {
        "colab": {
          "base_uri": "https://localhost:8080/"
        },
        "id": "wuY3qCs7u3D0",
        "outputId": "512389f8-dbcd-452e-d224-0237646582c4"
      },
      "execution_count": 17,
      "outputs": [
        {
          "output_type": "execute_result",
          "data": {
            "text/plain": [
              "True"
            ]
          },
          "metadata": {},
          "execution_count": 17
        }
      ]
    },
    {
      "cell_type": "code",
      "source": [
        "8+9<=2+13"
      ],
      "metadata": {
        "colab": {
          "base_uri": "https://localhost:8080/"
        },
        "id": "mMffF4oju5yh",
        "outputId": "3e1a1708-3891-45ef-c2b2-81b298d98d99"
      },
      "execution_count": 18,
      "outputs": [
        {
          "output_type": "execute_result",
          "data": {
            "text/plain": [
              "False"
            ]
          },
          "metadata": {},
          "execution_count": 18
        }
      ]
    },
    {
      "cell_type": "code",
      "source": [
        ""
      ],
      "metadata": {
        "id": "bbrvlh4wu-B5"
      },
      "execution_count": null,
      "outputs": []
    }
  ]
}